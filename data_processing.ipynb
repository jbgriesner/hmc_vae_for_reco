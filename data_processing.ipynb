{
 "cells": [
  {
   "cell_type": "code",
   "execution_count": 18,
   "metadata": {},
   "outputs": [],
   "source": [
    "import os\n",
    "import glob\n",
    "import fileinput\n",
    "from tqdm import tqdm\n",
    "import shutil\n",
    "import sys\n",
    "\n",
    "import numpy as np\n",
    "from scipy import sparse\n",
    "\n",
    "import pandas as pd"
   ]
  },
  {
   "cell_type": "markdown",
   "metadata": {},
   "source": [
    "# Data Preprocessing"
   ]
  },
  {
   "cell_type": "markdown",
   "metadata": {},
   "source": [
    "## Concatenating small files into one\n",
    "- just do this once to get one file for each dataset"
   ]
  },
  {
   "cell_type": "code",
   "execution_count": 77,
   "metadata": {},
   "outputs": [],
   "source": [
    "foursquare_DIR = './data/raw/foursquare'\n",
    "gowalla_DIR = './data/raw/gowalla'\n",
    "ml100_DIR = './data/raw/ml-100k'\n",
    "ml25_DIR = './data/raw/ml-25m'"
   ]
  },
  {
   "cell_type": "code",
   "execution_count": 78,
   "metadata": {},
   "outputs": [],
   "source": [
    "foursquare_checkins_file = f\"{foursquare_DIR}/checkins\"\n",
    "gowalla_checkins_file = f\"{gowalla_DIR}/checkins\"\n",
    "ml100_ratings_file = f\"{ml100_DIR}/ratings.csv\"\n",
    "ml25_ratings_file = f\"{ml25_DIR}/ratings\""
   ]
  },
  {
   "cell_type": "code",
   "execution_count": 108,
   "metadata": {},
   "outputs": [],
   "source": [
    "def concatenate_files(checkins_file, pattern):\n",
    "    \"\"\"\n",
    "        If the ratings/checkins file exists for each dataset, we do nothing,\n",
    "        otherwise we just concatenate the pieces of files\n",
    "    \"\"\"\n",
    "    if not os.path.exists(checkins_file):\n",
    "        checkins_files = glob.glob(pattern)\n",
    "        with open(checkins_file, 'w') as out_file:\n",
    "            input_lines = fileinput.input(checkins_files)\n",
    "            prev_line = None\n",
    "            for line in input_lines:\n",
    "                if not fileinput.isfirstline():  # first lines are corrupted\n",
    "                    if prev_line is not None:    # last lines are corrupted\n",
    "                        out_file.write(prev_line)\n",
    "                    prev_line = line"
   ]
  },
  {
   "cell_type": "code",
   "execution_count": 79,
   "metadata": {},
   "outputs": [],
   "source": [
    "concatenate_files(foursquare_checkins_file, f\"{foursquare_DIR}/*checkins_0*\")\n",
    "concatenate_files(gowalla_checkins_file, f\"{gowalla_DIR}/*checkins_0*\")\n",
    "concatenate_files(ml25_ratings_file, f\"{ml25_DIR}/*ratings_0*\")"
   ]
  },
  {
   "cell_type": "markdown",
   "metadata": {},
   "source": [
    "## Loading datasets"
   ]
  },
  {
   "cell_type": "code",
   "execution_count": 121,
   "metadata": {},
   "outputs": [],
   "source": [
    "foursquare_checkins = pd.read_csv(foursquare_checkins_file, error_bad_lines=False, nrows=100, sep='\\t', usecols=[0,1], names=['user', 'item'])\n",
    "gowalla_checkins = pd.read_csv(gowalla_checkins_file, error_bad_lines=False, nrows=100, usecols=[0,1], names=['user', 'item'])\n",
    "ml100_ratings = pd.read_csv(ml100_ratings_file, error_bad_lines=False, header=0, nrows=100, usecols=[0, 1, 2])\n",
    "ml25_ratings = pd.read_csv(ml25_ratings_file, error_bad_lines=False, header=0, nrows=100, usecols=[0, 1, 2], names=['user', 'item', 'rating'])"
   ]
  },
  {
   "cell_type": "markdown",
   "metadata": {},
   "source": [
    "## Processing"
   ]
  },
  {
   "cell_type": "markdown",
   "metadata": {},
   "source": [
    "### processing foursquare"
   ]
  },
  {
   "cell_type": "code",
   "execution_count": null,
   "metadata": {},
   "outputs": [],
   "source": []
  },
  {
   "cell_type": "markdown",
   "metadata": {},
   "source": [
    "### processing gowalla"
   ]
  },
  {
   "cell_type": "code",
   "execution_count": null,
   "metadata": {},
   "outputs": [],
   "source": []
  },
  {
   "cell_type": "markdown",
   "metadata": {},
   "source": [
    "### processing ml-100"
   ]
  },
  {
   "cell_type": "code",
   "execution_count": 113,
   "metadata": {},
   "outputs": [],
   "source": [
    "# binarize the data (only keep ratings >= 4)\n",
    "ml100_ratings = ml100_ratings[ml100_ratings['rating'] > 3.5]"
   ]
  },
  {
   "cell_type": "markdown",
   "metadata": {},
   "source": [
    "### processing ml-25"
   ]
  },
  {
   "cell_type": "code",
   "execution_count": 123,
   "metadata": {},
   "outputs": [],
   "source": [
    "# binarize the data (only keep ratings >= 4)\n",
    "ml25_ratings = ml25_ratings[ml25_ratings['rating'] > 3.5]"
   ]
  }
 ],
 "metadata": {
  "kernelspec": {
   "display_name": "Python 3",
   "language": "python",
   "name": "python3"
  },
  "language_info": {
   "codemirror_mode": {
    "name": "ipython",
    "version": 3
   },
   "file_extension": ".py",
   "mimetype": "text/x-python",
   "name": "python",
   "nbconvert_exporter": "python",
   "pygments_lexer": "ipython3",
   "version": "3.7.7"
  }
 },
 "nbformat": 4,
 "nbformat_minor": 4
}
